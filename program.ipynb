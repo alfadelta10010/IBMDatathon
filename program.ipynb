{
 "cells": [
  {
   "cell_type": "code",
   "execution_count": 30,
   "id": "e19f5730-3370-4820-b734-79e3a70d0ac4",
   "metadata": {},
   "outputs": [
    {
     "name": "stdout",
     "output_type": "stream",
     "text": [
      "Defaulting to user installation because normal site-packages is not writeable\n",
      "Collecting git+https://github.com/mr7495/RetinaNet\n",
      "  Cloning https://github.com/mr7495/RetinaNet to /tmp/pip-req-build-289u_6vl\n",
      "  Running command git clone --filter=blob:none --quiet https://github.com/mr7495/RetinaNet /tmp/pip-req-build-289u_6vl\n",
      "  Resolved https://github.com/mr7495/RetinaNet to commit 6a85690f62f9e504db99dcd04391fa790690c498\n",
      "  Running command git submodule update --init --recursive -q\n",
      "  Preparing metadata (setup.py) ... \u001b[?25ldone\n",
      "\u001b[?25hRequirement already satisfied: Pillow in ./.local/lib/python3.8/site-packages (from keras-retinanet==0.5.1) (9.2.0)\n",
      "Requirement already satisfied: cython in ./.local/lib/python3.8/site-packages (from keras-retinanet==0.5.1) (0.29.28)\n",
      "Requirement already satisfied: keras in /usr/local/lib/python3.8/dist-packages (from keras-retinanet==0.5.1) (2.7.0rc0)\n",
      "Requirement already satisfied: keras-resnet==0.1.0 in ./.local/lib/python3.8/site-packages (from keras-retinanet==0.5.1) (0.1.0)\n",
      "Requirement already satisfied: opencv-python in ./.local/lib/python3.8/site-packages (from keras-retinanet==0.5.1) (4.6.0.66)\n",
      "Requirement already satisfied: progressbar2 in ./.local/lib/python3.8/site-packages (from keras-retinanet==0.5.1) (4.0.0)\n",
      "Requirement already satisfied: scipy in ./.local/lib/python3.8/site-packages (from keras-retinanet==0.5.1) (1.8.0)\n",
      "Requirement already satisfied: six in /usr/local/lib/python3.8/dist-packages (from keras-retinanet==0.5.1) (1.16.0)\n",
      "Requirement already satisfied: numpy>=1.17.3 in /usr/local/lib/python3.8/dist-packages (from opencv-python->keras-retinanet==0.5.1) (1.19.5)\n",
      "Requirement already satisfied: python-utils>=3.0.0 in ./.local/lib/python3.8/site-packages (from progressbar2->keras-retinanet==0.5.1) (3.3.3)\n",
      "Defaulting to user installation because normal site-packages is not writeable\n",
      "Requirement already satisfied: keras.applications in ./.local/lib/python3.8/site-packages (1.0.8)\n",
      "Requirement already satisfied: numpy>=1.9.1 in /usr/local/lib/python3.8/dist-packages (from keras.applications) (1.19.5)\n",
      "Requirement already satisfied: h5py in /usr/local/lib/python3.8/dist-packages (from keras.applications) (3.6.0)\n",
      "Defaulting to user installation because normal site-packages is not writeable\n",
      "Requirement already satisfied: tensorflow in /usr/local/lib/python3.8/dist-packages (2.7.0)\n",
      "Requirement already satisfied: opt-einsum>=2.3.2 in /usr/local/lib/python3.8/dist-packages (from tensorflow) (3.3.0)\n",
      "Requirement already satisfied: keras<2.8,>=2.7.0rc0 in /usr/local/lib/python3.8/dist-packages (from tensorflow) (2.7.0rc0)\n",
      "Requirement already satisfied: six>=1.12.0 in /usr/local/lib/python3.8/dist-packages (from tensorflow) (1.16.0)\n",
      "Requirement already satisfied: google-pasta>=0.1.1 in /usr/local/lib/python3.8/dist-packages (from tensorflow) (0.2.0)\n",
      "Requirement already satisfied: termcolor>=1.1.0 in /usr/local/lib/python3.8/dist-packages (from tensorflow) (1.1.0)\n",
      "Requirement already satisfied: tensorboard~=2.6 in /usr/local/lib/python3.8/dist-packages (from tensorflow) (2.9.0)\n",
      "\u001b[31mERROR: Could not find a version that satisfies the requirement tensorflow-io-gcs-filesystem>=0.21.0 (from tensorflow) (from versions: none)\u001b[0m\u001b[31m\n",
      "\u001b[0m\u001b[31mERROR: No matching distribution found for tensorflow-io-gcs-filesystem>=0.21.0\u001b[0m\u001b[31m\n",
      "\u001b[0m"
     ]
    }
   ],
   "source": [
    "!pip3 install git+https://github.com/mr7495/RetinaNet\n",
    "!pip3 install keras.applications\n",
    "!pip3 install --upgrade tensorflow"
   ]
  },
  {
   "cell_type": "code",
   "execution_count": 31,
   "id": "eb271b28-f130-43c3-a2c1-cf07d0469bb5",
   "metadata": {},
   "outputs": [
    {
     "ename": "ModuleNotFoundError",
     "evalue": "No module named 'keras.applications.resnet50'",
     "output_type": "error",
     "traceback": [
      "\u001b[0;31m---------------------------------------------------------------------------\u001b[0m",
      "\u001b[0;31mModuleNotFoundError\u001b[0m                       Traceback (most recent call last)",
      "Input \u001b[0;32mIn [31]\u001b[0m, in \u001b[0;36m<cell line: 15>\u001b[0;34m()\u001b[0m\n\u001b[1;32m     13\u001b[0m \u001b[38;5;28;01mfrom\u001b[39;00m \u001b[38;5;21;01mkeras\u001b[39;00m\u001b[38;5;21;01m.\u001b[39;00m\u001b[38;5;21;01mapplications\u001b[39;00m\u001b[38;5;21;01m.\u001b[39;00m\u001b[38;5;21;01mresnet_v2\u001b[39;00m \u001b[38;5;28;01mimport\u001b[39;00m ResNet50V2\n\u001b[1;32m     14\u001b[0m \u001b[38;5;28;01mfrom\u001b[39;00m \u001b[38;5;21;01mkeras\u001b[39;00m\u001b[38;5;21;01m.\u001b[39;00m\u001b[38;5;21;01mapplications\u001b[39;00m\u001b[38;5;21;01m.\u001b[39;00m\u001b[38;5;21;01mxception\u001b[39;00m \u001b[38;5;28;01mimport\u001b[39;00m Xception\n\u001b[0;32m---> 15\u001b[0m \u001b[38;5;28;01mfrom\u001b[39;00m \u001b[38;5;21;01mkeras\u001b[39;00m\u001b[38;5;21;01m.\u001b[39;00m\u001b[38;5;21;01mapplications\u001b[39;00m\u001b[38;5;21;01m.\u001b[39;00m\u001b[38;5;21;01mresnet50\u001b[39;00m \u001b[38;5;28;01mimport\u001b[39;00m ResNet50\n\u001b[1;32m     16\u001b[0m \u001b[38;5;28;01mfrom\u001b[39;00m \u001b[38;5;21;01mkeras\u001b[39;00m\u001b[38;5;21;01m.\u001b[39;00m\u001b[38;5;21;01mapplications\u001b[39;00m\u001b[38;5;21;01m.\u001b[39;00m\u001b[38;5;21;01mvgg16\u001b[39;00m \u001b[38;5;28;01mimport\u001b[39;00m VGG16\n\u001b[1;32m     17\u001b[0m \u001b[38;5;28;01mfrom\u001b[39;00m \u001b[38;5;21;01mkeras\u001b[39;00m\u001b[38;5;21;01m.\u001b[39;00m\u001b[38;5;21;01mcallbacks\u001b[39;00m \u001b[38;5;28;01mimport\u001b[39;00m ModelCheckpoint\n",
      "\u001b[0;31mModuleNotFoundError\u001b[0m: No module named 'keras.applications.resnet50'"
     ]
    }
   ],
   "source": [
    "import keras\n",
    "import numpy as np\n",
    "import cv2\n",
    "import os\n",
    "import random\n",
    "import shutil\n",
    "import pandas as pd\n",
    "import csv\n",
    "import zipfile\n",
    "from keras import optimizers\n",
    "from keras.models import Sequential,Model\n",
    "from keras.layers import Dropout, Flatten, Dense,Input\n",
    "from keras.applications.resnet_v2 import ResNet50V2\n",
    "from keras.applications.xception import Xception\n",
    "from keras.applications.resnet50 import ResNet50\n",
    "from keras.applications.vgg16 import VGG16\n",
    "from keras.callbacks import ModelCheckpoint\n",
    "from keras.applications.imagenet_utils import preprocess_input\n",
    "from keras import backend as K\n",
    "from keras.preprocessing.image import ImageDataGenerator\n",
    "from keras.initializers import RandomNormal\n",
    "import keras.backend as k\n",
    "from sklearn.utils import shuffle\n",
    "import io\n",
    "from PIL import Image as pil_image\n",
    "from keras_retinanet import layers\n",
    "import keras.backend as k\n",
    "import keras_retinanet"
   ]
  },
  {
   "cell_type": "code",
   "execution_count": 26,
   "id": "dabaf88c-e74f-40b2-a191-8b596ebfe6a8",
   "metadata": {},
   "outputs": [],
   "source": [
    " shape=(512,512,1) "
   ]
  },
  {
   "cell_type": "code",
   "execution_count": 27,
   "id": "a0822156-0726-45c5-bf41-f57aaf2e1db9",
   "metadata": {},
   "outputs": [
    {
     "name": "stdout",
     "output_type": "stream",
     "text": [
      "mkdir: cannot create directory ‘selected_data’: File exists\n"
     ]
    },
    {
     "ename": "ValueError",
     "evalue": "min() arg is an empty sequence",
     "output_type": "error",
     "traceback": [
      "\u001b[0;31m---------------------------------------------------------------------------\u001b[0m",
      "\u001b[0;31mValueError\u001b[0m                                Traceback (most recent call last)",
      "Input \u001b[0;32mIn [27]\u001b[0m, in \u001b[0;36m<cell line: 21>\u001b[0;34m()\u001b[0m\n\u001b[1;32m     19\u001b[0m             counted_zero\u001b[38;5;241m+\u001b[39m\u001b[38;5;241m=\u001b[39m\u001b[38;5;241m1\u001b[39m\n\u001b[1;32m     20\u001b[0m     zero\u001b[38;5;241m.\u001b[39mappend(counted_zero)\n\u001b[0;32m---> 21\u001b[0m min_zero\u001b[38;5;241m=\u001b[39m\u001b[38;5;28;43mmin\u001b[39;49m\u001b[43m(\u001b[49m\u001b[43mzero\u001b[49m\u001b[43m)\u001b[49m\n\u001b[1;32m     22\u001b[0m max_zero\u001b[38;5;241m=\u001b[39m\u001b[38;5;28mmax\u001b[39m(zero)\n\u001b[1;32m     23\u001b[0m threshold\u001b[38;5;241m=\u001b[39m(max_zero\u001b[38;5;241m-\u001b[39mmin_zero)\u001b[38;5;241m/\u001b[39m\u001b[38;5;241m1.5\u001b[39m\n",
      "\u001b[0;31mValueError\u001b[0m: min() arg is an empty sequence"
     ]
    }
   ],
   "source": [
    "!mkdir 'selected_data'\n",
    "data_path='SR_2'\n",
    "data_files=[]\n",
    "for r,d,f in os.walk(data_path):\n",
    "  for file in f:\n",
    "    if '.tif' in file:\n",
    "      data_files.append(os.path.join(r,file)) \n",
    "\n",
    "selected=[]          \n",
    "zero=[]\n",
    "names=[]\n",
    "for img_path in data_files:\n",
    "    names.append(img_path)\n",
    "    pixel=cv2.imread(img_path,cv2.IMREAD_UNCHANGED )\n",
    "    sp=pixel[240:340,120:370] \n",
    "    counted_zero=0\n",
    "    for i in np.reshape(sp,(sp.shape[0]*sp.shape[1],1)):\n",
    "        if i<300:\n",
    "            counted_zero+=1\n",
    "    zero.append(counted_zero)\n",
    "min_zero=min(zero)\n",
    "max_zero=max(zero)\n",
    "threshold=(max_zero-min_zero)/1.5\n",
    "indices=np.where(np.array(zero)>threshold) \n",
    "selected_names=np.array(names)[indices]\n",
    "\n",
    "\n",
    "for selected_img in selected_names:\n",
    "    shutil.copy(selected_img,'selected_data')"
   ]
  },
  {
   "cell_type": "code",
   "execution_count": 28,
   "id": "9c6ae0d0-ff89-4b3c-94d2-622084825937",
   "metadata": {},
   "outputs": [
    {
     "name": "stdout",
     "output_type": "stream",
     "text": [
      "The patient is identified as infected to COVID-19\n"
     ]
    }
   ],
   "source": [
    "Path= 'FPN-fold1.hdf5'\n",
    "selected_imgs_path=[]\n",
    "for r,d,f in os.walk('selected_data'):\n",
    "  for file in f:\n",
    "    if '.tif' in file:\n",
    "      selected_imgs_path.append(os.path.join(r,file)) \n",
    "\n",
    "k.clear_session()\n",
    "custom_object={'UpsampleLike': keras_retinanet.layers._misc.UpsampleLike} \n",
    "net=keras.models.load_model(Path, custom_objects=custom_object)\n",
    "\n",
    "\n",
    "covid_label=0 \n",
    "normal_label=1  \n",
    "normal_predicted=0\n",
    "covid_predicted=0\n",
    "for img_name in selected_imgs_path: \n",
    "  img=cv2.imread(img_name,cv2.IMREAD_UNCHANGED)\n",
    "  pred_ind=np.argmax(net.predict(np.expand_dims(np.expand_dims(img,axis=0),axis=3))[0])\n",
    "  if pred_ind==normal_label:\n",
    "    normal_predicted+=1\n",
    "  else:\n",
    "    covid_predicted+=1\n",
    "\n",
    "all_imgs_num=len(selected_imgs_path) \n",
    "if covid_predicted>=0.1*all_imgs_num: \n",
    "  print('The patient is identified as infected to COVID-19')\n",
    "else:\n",
    "  print('The patient is identified as normal')"
   ]
  },
  {
   "cell_type": "code",
   "execution_count": null,
   "id": "85e4c454-a2ea-426b-831d-d0c0de0567df",
   "metadata": {},
   "outputs": [],
   "source": []
  }
 ],
 "metadata": {
  "kernelspec": {
   "display_name": "Python 3 (ipykernel)",
   "language": "python",
   "name": "python3"
  },
  "language_info": {
   "codemirror_mode": {
    "name": "ipython",
    "version": 3
   },
   "file_extension": ".py",
   "mimetype": "text/x-python",
   "name": "python",
   "nbconvert_exporter": "python",
   "pygments_lexer": "ipython3",
   "version": "3.8.10"
  }
 },
 "nbformat": 4,
 "nbformat_minor": 5
}
